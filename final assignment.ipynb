{
 "cells": [
  {
   "cell_type": "markdown",
   "id": "6c86a2c8-9d30-4074-a572-63910280fb59",
   "metadata": {},
   "source": [
    "# My Jupyter Notebook on IBM Watson Studio"
   ]
  },
  {
   "cell_type": "markdown",
   "id": "e79c3b0a-5057-4846-8a3a-70caf205ca8c",
   "metadata": {},
   "source": [
    "**Disha Jayaprakash Thotappala**\n",
    "\n",
    "I am a Student"
   ]
  },
  {
   "cell_type": "markdown",
   "id": "ec9ee91e-c19d-4a04-83ce-6ee32fc03ee0",
   "metadata": {},
   "source": [
    "*I am interested in Data Science because I love to make sense of seemingly random and unstructured data*"
   ]
  },
  {
   "cell_type": "markdown",
   "id": "95eab3a9-34a3-4c2b-932d-e4dcb16f96c6",
   "metadata": {},
   "source": [
    "### My code is supposed to return intergers from 0 to n"
   ]
  },
  {
   "cell_type": "code",
   "execution_count": 2,
   "id": "8772c87e-f0b3-43b4-be0b-63a000519d9c",
   "metadata": {},
   "outputs": [
    {
     "name": "stdout",
     "output_type": "stream",
     "text": [
      "0\n",
      "1\n",
      "2\n",
      "3\n",
      "4\n",
      "5\n",
      "6\n",
      "7\n",
      "8\n",
      "9\n"
     ]
    }
   ],
   "source": [
    "def fun(n):\n",
    "    for i in range(n):\n",
    "        print(i)\n",
    "fun(10)"
   ]
  },
  {
   "cell_type": "markdown",
   "id": "e9c559c2-72d1-4ec2-afb4-3636a3b7e566",
   "metadata": {},
   "source": [
    "***\n",
    "Here is important text\n",
    "\n",
    "***\n",
    "\n",
    "* this is a bulleted list\n",
    "* this is a bulleted list\n",
    "1. one\n",
    "2. two"
   ]
  },
  {
   "cell_type": "code",
   "execution_count": null,
   "id": "2cebf659-7837-457e-8b07-f96c53b53d38",
   "metadata": {},
   "outputs": [],
   "source": []
  }
 ],
 "metadata": {
  "kernelspec": {
   "display_name": "Python",
   "language": "python",
   "name": "conda-env-python-py"
  },
  "language_info": {
   "codemirror_mode": {
    "name": "ipython",
    "version": 3
   },
   "file_extension": ".py",
   "mimetype": "text/x-python",
   "name": "python",
   "nbconvert_exporter": "python",
   "pygments_lexer": "ipython3",
   "version": "3.7.12"
  }
 },
 "nbformat": 4,
 "nbformat_minor": 5
}
